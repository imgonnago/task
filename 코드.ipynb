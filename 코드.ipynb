{
 "cells": [
  {
   "cell_type": "code",
   "execution_count": null,
   "id": "42abed0d-219b-4a95-a3f9-ff3c514be3f2",
   "metadata": {},
   "outputs": [],
   "source": [
    "#일주일치 데이터 변환\n",
    "x_train = train_df.drop(['ID','착과량(int)','수관폭1(min)','수관폭2(max)'], axis=1)\n",
    "x_test = test_df.drop(['ID','착과량(int)','수관폭1(min)','수관폭2(max)'], axis=1)\n",
    "#새순 컬럼 제외\n",
    "week_291data = x_train.iloc[:, 2:91:7]\n",
    "week_91180data = x_train.iloc[:, 91:180:7]\n",
    "WeekTest_291data = x_test.iloc[:, 2:91:7]\n",
    "WeekTest_91180data = x_test.iloc[:, 91:180:7]\n",
    "x_train = train_df[['수고(m)','수관폭평균']]\n",
    "x_test = test_df[['수고(m)','수관폭평균']]\n",
    "X_train = pd.concat([x_train, week_291data,week_91180data], axis=1)# 새순 일주일 간격 이랑 수고 수관폭평균 합친 데이터\n",
    "X_test = pd.concat([x_test, WeekTest_291data,WeekTest_91180data], axis=1)# 엽록소 일주일 간격 이랑 수고 수관폭평균 합친 데이터\n",
    "\n",
    "y_train = train_df['착과량(int)']\n",
    "y_test = test_df['착과량(int)']"
   ]
  },
  {
   "cell_type": "code",
   "execution_count": null,
   "id": "5d568a36-e910-4c5e-8302-56cf2bece303",
   "metadata": {},
   "outputs": [],
   "source": [
    "shoot= x_train.iloc[:, 2:91]#새순 데이터\n",
    "chlorophyll= x_train.iloc[:, 91:180]#엽록소 데이터"
   ]
  },
  {
   "cell_type": "code",
   "execution_count": null,
   "id": "c1cac6c2-a320-4b55-bbcf-deb6806fd6c6",
   "metadata": {},
   "outputs": [],
   "source": [
    "# 새순, 엽록소 데이터 곱한 데이터\n",
    "x_train = train_df.drop(['ID','착과량(int)','수관폭1(min)','수관폭2(max)'], axis=1)\n",
    "x_test = test_df.drop(['ID','착과량(int)','수관폭1(min)','수관폭2(max)'], axis=1)\n",
    "\n",
    "shoot= x_train.iloc[:, 2:91]#새순 데이터\n",
    "chlorophyll= x_train.iloc[:, 91:180]#엽록소 데이터\n",
    "shoot_test= x_test.iloc[:, 2:91]#새순 데이터\n",
    "chlorophyll_test= x_test.iloc[:, 91:180]#엽록소 데이터\n",
    "# 엽록소 새순 데이터 추출 후 train, test셋에 수고 수관폭만 남김.\n",
    "x_train = train_df[['수고(m)','수관폭평균']]\n",
    "x_test = test_df[['수고(m)','수관폭평균']]\n",
    "\n",
    "shoot_col = shoot.columns.tolist() # 새순 컬럼 이름 추출\n",
    "chlorophyll_col = chlorophyll.columns.tolist()#엽록소 컬럼 이름 추출\n",
    "new_columns = pd.DataFrame()#서로 곱한 데이터 컬럼 정의\n",
    "new_columns_test = pd.DataFrame()\n",
    "\n",
    "# new_columns로 컬럼 만들어서 곱하기\n",
    "for s_col, c_col in zip(shoot_col, chlorophyll_col):\n",
    "    new_names = s_col.replace(' 새순',' 수치')\n",
    "\n",
    "    new_columns[new_names] = shoot[s_col] * chlorophyll[c_col]\n",
    "    \n",
    "for s_col, c_col in zip(shoot_col, chlorophyll_col):\n",
    "    new_names = s_col.replace(' 새순',' 수치')\n",
    "\n",
    "    new_columns_test[new_names] = shoot_test[s_col] * chlorophyll_test[c_col]\n",
    "# x_train,test셋에 컬럼 추가\n",
    "x_train = pd.concat([x_train, new_columns], axis = 1)\n",
    "x_test = pd.concat([x_test, new_columns_test], axis=1)\n",
    "print(x_train)\n",
    "print(x_test)\n",
    "y_train = train_df['착과량(int)']\n",
    "y_test = test_df['착과량(int)']"
   ]
  },
  {
   "cell_type": "code",
   "execution_count": null,
   "id": "84a6e474-a030-4f2b-bb06-4f6e4273f349",
   "metadata": {},
   "outputs": [],
   "source": [
    "#엽록소 컬럼 제거하고 새순 컬럼들을 제곱한 코드\n",
    "x_train = train_df.drop(['ID','착과량(int)','수관폭1(min)','수관폭2(max)'], axis=1)\n",
    "x_test = test_df.drop(['ID','착과량(int)','수관폭1(min)','수관폭2(max)'], axis=1)\n",
    "#shoot으로 train, test 새순 데이터 추출\n",
    "shoot= x_train.iloc[:, 2:91]#새순 데이터\n",
    "shoot_test = x_test.iloc[:, 2:91]#새순 데이터\n",
    "#어차피 수고 수관폭평균, 새순 데이터만 쓸거니까 나머지 컬럼들 다 없애고 새순 컬럼만 추가\n",
    "x_train = train_df[['수고(m)','수관폭평균']]\n",
    "x_test = test_df[['수고(m)','수관폭평균']]\n",
    "#컬럼 이름 추출\n",
    "shoot_columns = shoot.columns.tolist()\n",
    "shoot_columns_test = shoot_test.columns.tolist()\n",
    "#새로 만들 컬럼 생성\n",
    "shoot_square = pd.DataFrame()\n",
    "shoot_square_test = pd.DataFrame()\n",
    "# 새순 컬럼 제곱\n",
    "for col in shoot_columns:\n",
    "    shoot_columns = col.replace(' 새순', ' 새순 제곱')\n",
    "    \n",
    "    shoot_square[shoot_columns] = shoot[col]**2\n",
    "    \n",
    "for col in shoot_columns_test:\n",
    "    shoot_columns_test = col.replace(' 새순', ' 새순 제곱')\n",
    "    \n",
    "    shoot_square_test[shoot_columns_test] = shoot_test[col]**2\n",
    "# 제곱한 새순 컬럼 concat으로 추가\n",
    "x_train = pd.concat([x_train, shoot_square], axis=1)\n",
    "x_test = pd.concat([x_test, shoot_square_test],axis = 1)"
   ]
  }
 ],
 "metadata": {
  "kernelspec": {
   "display_name": "Python AIsc",
   "language": "python",
   "name": "aisc"
  },
  "language_info": {
   "codemirror_mode": {
    "name": "ipython",
    "version": 3
   },
   "file_extension": ".py",
   "mimetype": "text/x-python",
   "name": "python",
   "nbconvert_exporter": "python",
   "pygments_lexer": "ipython3",
   "version": "3.10.13"
  }
 },
 "nbformat": 4,
 "nbformat_minor": 5
}
